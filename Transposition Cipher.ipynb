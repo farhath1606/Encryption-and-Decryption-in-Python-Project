{
 "cells": [
  {
   "cell_type": "markdown",
   "id": "9f646005-8e10-4005-9a60-4be6f47fd3a1",
   "metadata": {},
   "source": [
    "# Create the TranspositionCipher class"
   ]
  },
  {
   "cell_type": "code",
   "execution_count": 268,
   "id": "24484932",
   "metadata": {},
   "outputs": [],
   "source": [
    "import math\n",
    "from math import ceil\n",
    "\n",
    "class TranspositionCipher(object): \n",
    "    def __init__(self, key):\n",
    "        self.key = key\n",
    "        \n",
    "    def encrypt_message(self, message):\n",
    "        # Create an empty string to store the encrypted message\n",
    "        encrypted_message = [''] * self.key\n",
    "        \n",
    "        # Iterate over each column in the cipher grid\n",
    "        for col in range(self.key):\n",
    "            pointer = col\n",
    "            # Loop through each row in the column\n",
    "            while pointer < len(message):\n",
    "                # Add the character at the pointer to the current column in encrypted message\n",
    "                encrypted_message[col] += message[pointer]\n",
    "                # Move pointer by the key value to go down the rows\n",
    "                pointer += self.key\n",
    "        \n",
    "        # Join the encrypted message from each column into a single string\n",
    "        return ''.join(encrypted_message)\n",
    "                \n",
    "    def decrypt_message(self, encrypted_message):\n",
    "        # Determine the number of columns and rows in the grid\n",
    "        num_columns = self.key\n",
    "        num_rows = math.ceil(len(encrypted_message) / self.key)\n",
    "        num_empty_cells = (num_columns * num_rows) - len(encrypted_message)\n",
    "        \n",
    "        # Create an empty list to hold the decrypted message\n",
    "        decrypted_message = [''] * num_rows\n",
    "\n",
    "        # Initialize column and row pointers\n",
    "        col, row = 0, 0\n",
    "        \n",
    "        # Loop through each character in the encrypted message\n",
    "        for symbol in encrypted_message:\n",
    "            decrypted_message[row] += symbol\n",
    "            row += 1  # Move down to the next row\n",
    "            \n",
    "            # If we've reached the last row or a cell that should remain empty, move to the next column\n",
    "            if (row == num_rows) or (row == num_rows - 1 and col >= num_columns - num_empty_cells):\n",
    "                row = 0\n",
    "                col += 1\n",
    "\n",
    "        # Join all rows to form the decrypted message\n",
    "        return ''.join(decrypted_message)\n",
    "    \n",
    "# Create an instance of TranspositionCipher with key 6\n",
    "cipher = TranspositionCipher(key=11)\n",
    "\n",
    "# Example encrypted message to decrypt\n",
    "encrypted_message = cipher.encrypt_message(\"I confess at these words a shudder passed through me. There was a thrill in the doctor’s voice which showed that he was himself deeply moved by that which he told us. Holmes leaned forward in his excitement and his eyes had the hard, dry glitter which shot from them when he was keenly interested\")\n",
    "decrypted_message = cipher.decrypt_message(\"pe\\nlwy crt h iarmpeo akohw hncosrmr\\nt veo\\nigkb ostot\\neirbt .l\\nb hfap rtytb\")"
   ]
  },
  {
   "cell_type": "markdown",
   "id": "addc9042",
   "metadata": {},
   "source": [
    "# Test the code by encrypting and decrypting a message"
   ]
  },
  {
   "cell_type": "code",
   "execution_count": 271,
   "id": "8c8f8aa3",
   "metadata": {},
   "outputs": [
    {
     "data": {
      "text/plain": [
       "'Itdrrhth hail  .adcdhdthewi  s oehev tmyth n i a,eomanct purr os s heHeithd rt stohaageidihhema odnei d  w ene sh locoelottl  mstrwfhkrfsss wlcew fv omfhe hyhreeeeehema t ew ewleoinee ioness udesiowdaddhdsrsty gcm ntswd . nrh se i  w  ehlh hle odt a ’it ebculaeasai teydarehT tschhpyhserxn rtsh  '"
      ]
     },
     "execution_count": 271,
     "metadata": {},
     "output_type": "execute_result"
    }
   ],
   "source": [
    "# Display the encrypted message\n",
    "encrypted_message"
   ]
  },
  {
   "cell_type": "code",
   "execution_count": 273,
   "id": "5878b5ec-df7c-403f-90b8-b76c7e187fa4",
   "metadata": {},
   "outputs": [
    {
     "data": {
      "text/plain": [
       "'pcaan\\nitbb errkctgot r\\ntmoo kt htl phsvb\\n.fywhewre elaty o mooi\\npb i hr\\nsr'"
      ]
     },
     "execution_count": 273,
     "metadata": {},
     "output_type": "execute_result"
    }
   ],
   "source": [
    "# Display the decrypted message\n",
    "decrypted_message"
   ]
  },
  {
   "cell_type": "markdown",
   "id": "2c4e8503",
   "metadata": {},
   "source": [
    "# Hack the transposition cipher (optional)"
   ]
  },
  {
   "cell_type": "code",
   "execution_count": 280,
   "id": "54134ab4",
   "metadata": {},
   "outputs": [
    {
     "ename": "ModuleNotFoundError",
     "evalue": "No module named 'PyDictionary'",
     "output_type": "error",
     "traceback": [
      "\u001b[1;31m---------------------------------------------------------------------------\u001b[0m",
      "\u001b[1;31mModuleNotFoundError\u001b[0m                       Traceback (most recent call last)",
      "Cell \u001b[1;32mIn[280], line 2\u001b[0m\n\u001b[0;32m      1\u001b[0m \u001b[38;5;66;03m# Make sure you have the PyDictionary installed to run the hack_cipher() method. \u001b[39;00m\n\u001b[1;32m----> 2\u001b[0m \u001b[38;5;28;01mfrom\u001b[39;00m \u001b[38;5;21;01mPyDictionary\u001b[39;00m \u001b[38;5;28;01mimport\u001b[39;00m PyDictionary\n\u001b[0;32m      4\u001b[0m \u001b[38;5;28;01mdef\u001b[39;00m \u001b[38;5;21mhack_cipher\u001b[39m(message_enc):\n\u001b[0;32m      5\u001b[0m         \n\u001b[0;32m      6\u001b[0m         \u001b[38;5;66;03m# Iterate through each potential key from 1 to the length of the message\u001b[39;00m\n\u001b[0;32m      7\u001b[0m         \u001b[38;5;28;01mfor\u001b[39;00m key \u001b[38;5;129;01min\u001b[39;00m \u001b[38;5;28mrange\u001b[39m(\u001b[38;5;241m1\u001b[39m, \u001b[38;5;28mlen\u001b[39m(\u001b[38;5;28mlist\u001b[39m(message_enc))\u001b[38;5;241m+\u001b[39m\u001b[38;5;241m1\u001b[39m):\n\u001b[0;32m      8\u001b[0m             \n\u001b[0;32m      9\u001b[0m             \u001b[38;5;66;03m# Instantiate a TranspositionCipher object with the current key\u001b[39;00m\n",
      "\u001b[1;31mModuleNotFoundError\u001b[0m: No module named 'PyDictionary'"
     ]
    }
   ],
   "source": [
    "# Make sure you have the PyDictionary installed to run the hack_cipher() method. \n",
    "from PyDictionary import PyDictionary\n",
    "\n",
    "def hack_cipher(message_enc):\n",
    "        \n",
    "        # Iterate through each potential key from 1 to the length of the message\n",
    "        for key in range(1, len(list(message_enc))+1):\n",
    "            \n",
    "            # Instantiate a TranspositionCipher object with the current key\n",
    "            cipher = TranspositionCipher(key)\n",
    "            \n",
    "            # Attempt to decrypt the encrypted message using the current cipher\n",
    "            message_dec = cipher.decrypt_message(message_enc)\n",
    "            \n",
    "            # Split the decrypted message into individual words\n",
    "            message_dec_split = message_dec.split()\n",
    "            \n",
    "            # Initialize a list to store whether each word is in the English dictionary\n",
    "            english_words = []\n",
    "            \n",
    "            # Iterate over each word in the decrypted message\n",
    "            for i in message_dec_split:\n",
    "                \n",
    "                # Check if the current word exists in the English dictionary\n",
    "                # If it does, append \"True\" to english_words; otherwise, append \"False\"\n",
    "                english_words.append(PyDictionary.meaning(i) is not None)\n",
    "            \n",
    "            # Output the current key and its corresponding results for monitoring\n",
    "            print(key, english_words)\n",
    "            \n",
    "            # If all words in the decrypted message are found in the dictionary,\n",
    "            # we assume that the correct key has been found, and break the loop\n",
    "            if(sum(english_words) == len(list(message_dec_split))):\n",
    "                break\n",
    "            \n",
    "            # Print a blank line for readability\n",
    "            print()\n",
    "        \n",
    "        # Return the decrypted message and the key that successfully decrypted it\n",
    "        return message_dec, key"
   ]
  },
  {
   "cell_type": "code",
   "execution_count": 282,
   "id": "1a96fa73-8c9f-4884-beec-06f8a83a5f9e",
   "metadata": {
    "scrolled": true
   },
   "outputs": [
    {
     "ename": "NameError",
     "evalue": "name 'PyDictionary' is not defined",
     "output_type": "error",
     "traceback": [
      "\u001b[1;31m---------------------------------------------------------------------------\u001b[0m",
      "\u001b[1;31mNameError\u001b[0m                                 Traceback (most recent call last)",
      "Cell \u001b[1;32mIn[282], line 1\u001b[0m\n\u001b[1;32m----> 1\u001b[0m hack_cipher(\u001b[38;5;124m'\u001b[39m\u001b[38;5;124mlnh egofa nurp nnyiits\u001b[39m\u001b[38;5;124m'\u001b[39m)\n",
      "Cell \u001b[1;32mIn[247], line 31\u001b[0m, in \u001b[0;36mhack_cipher\u001b[1;34m(message_enc)\u001b[0m\n\u001b[0;32m     26\u001b[0m \u001b[38;5;66;03m# Iterate over each word in the decrypted message\u001b[39;00m\n\u001b[0;32m     27\u001b[0m \u001b[38;5;28;01mfor\u001b[39;00m i \u001b[38;5;129;01min\u001b[39;00m message_dec_split:\n\u001b[0;32m     28\u001b[0m     \n\u001b[0;32m     29\u001b[0m     \u001b[38;5;66;03m# Check if the current word exists in the English dictionary\u001b[39;00m\n\u001b[0;32m     30\u001b[0m     \u001b[38;5;66;03m# If it does, append \"True\" to english_words; otherwise, append \"False\"\u001b[39;00m\n\u001b[1;32m---> 31\u001b[0m     english_words\u001b[38;5;241m.\u001b[39mappend(PyDictionary\u001b[38;5;241m.\u001b[39mmeaning(i) \u001b[38;5;129;01mis\u001b[39;00m \u001b[38;5;129;01mnot\u001b[39;00m \u001b[38;5;28;01mNone\u001b[39;00m)\n\u001b[0;32m     33\u001b[0m \u001b[38;5;66;03m# Output the current key and its corresponding results for monitoring\u001b[39;00m\n\u001b[0;32m     34\u001b[0m \u001b[38;5;28mprint\u001b[39m(key, english_words)\n",
      "\u001b[1;31mNameError\u001b[0m: name 'PyDictionary' is not defined"
     ]
    }
   ],
   "source": [
    "hack_cipher('lnh egofa nurp nnyiits')"
   ]
  },
  {
   "cell_type": "code",
   "execution_count": null,
   "id": "977ce1ea-baa4-46a5-aad7-6f8dcc18d66d",
   "metadata": {},
   "outputs": [],
   "source": []
  },
  {
   "cell_type": "code",
   "execution_count": null,
   "id": "b5d7f12e-67ac-4c4a-8326-486c7d42e1b8",
   "metadata": {},
   "outputs": [],
   "source": []
  }
 ],
 "metadata": {
  "kernelspec": {
   "display_name": "Python 3 (ipykernel)",
   "language": "python",
   "name": "python3"
  },
  "language_info": {
   "codemirror_mode": {
    "name": "ipython",
    "version": 3
   },
   "file_extension": ".py",
   "mimetype": "text/x-python",
   "name": "python",
   "nbconvert_exporter": "python",
   "pygments_lexer": "ipython3",
   "version": "3.12.7"
  }
 },
 "nbformat": 4,
 "nbformat_minor": 5
}
